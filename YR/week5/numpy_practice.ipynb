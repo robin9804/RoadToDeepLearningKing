{
 "metadata": {
  "language_info": {
   "codemirror_mode": {
    "name": "ipython",
    "version": 3
   },
   "file_extension": ".py",
   "mimetype": "text/x-python",
   "name": "python",
   "nbconvert_exporter": "python",
   "pygments_lexer": "ipython3",
   "version": "3.8.7-final"
  },
  "orig_nbformat": 2,
  "kernelspec": {
   "name": "python3",
   "display_name": "Python 3.8.7 64-bit",
   "metadata": {
    "interpreter": {
     "hash": "83d028ccccd3f29c9681cbfd001771ee0a06c129150b2bcc075c12d561c3d1d3"
    }
   }
  }
 },
 "nbformat": 4,
 "nbformat_minor": 2,
 "cells": [
  {
   "source": [
    "# numpy 모듈에 대한 연습"
   ],
   "cell_type": "markdown",
   "metadata": {}
  },
  {
   "cell_type": "code",
   "execution_count": 1,
   "metadata": {},
   "outputs": [],
   "source": [
    "import numpy as np"
   ]
  },
  {
   "cell_type": "code",
   "execution_count": 2,
   "metadata": {},
   "outputs": [
    {
     "output_type": "stream",
     "name": "stdout",
     "text": [
      "[[1 2 3]\n [4 5 6]]\n[[1. 2. 3.]\n [4. 5. 6.]]\n"
     ]
    }
   ],
   "source": [
    "# numpy array 의 사용\n",
    "a = np.array([[1,2,3], [4,5,6]])\n",
    "b = np.array([[1,2,3], [4,5,6]], np.float)\n",
    "print(a)\n",
    "print(b)"
   ]
  },
  {
   "cell_type": "code",
   "execution_count": 3,
   "metadata": {},
   "outputs": [
    {
     "output_type": "stream",
     "name": "stdout",
     "text": [
      "[[ 2.  4.  6.]\n [ 8. 10. 12.]]\n"
     ]
    }
   ],
   "source": [
    "# array 간의 합\n",
    "c = a + b\n",
    "print(c)"
   ]
  },
  {
   "cell_type": "code",
   "execution_count": 4,
   "metadata": {},
   "outputs": [
    {
     "output_type": "stream",
     "name": "stdout",
     "text": [
      "[[ 1.  4.  9.]\n [16. 25. 36.]]\n"
     ]
    }
   ],
   "source": [
    "# 요소곱\n",
    "d = a * b\n",
    "print(d)"
   ]
  },
  {
   "cell_type": "code",
   "execution_count": 5,
   "metadata": {},
   "outputs": [
    {
     "output_type": "stream",
     "name": "stdout",
     "text": [
      "<class 'numpy.ndarray'>\n(2, 3)\n[1 2 3] [4 5 6]\n2\n"
     ]
    }
   ],
   "source": [
    "print(type(a))\n",
    "print(a.shape)\n",
    "print(a[0], a[1])\n",
    "print(a[0,1])"
   ]
  },
  {
   "cell_type": "code",
   "execution_count": 6,
   "metadata": {},
   "outputs": [
    {
     "output_type": "stream",
     "name": "stdout",
     "text": [
      "[[0. 0. 0.]\n [0. 0. 0.]]\n[[1. 1.]\n [1. 1.]]\n[[7 7]\n [7 7]]\n[[1. 0.]\n [0. 1.]]\n[[3 3 4]\n [6 5 0]]\n"
     ]
    }
   ],
   "source": [
    "# 배열을 만들기 위한 다양한 함수 제공\n",
    "zero = np.zeros((2,3))\n",
    "ones = np.ones((2,2))\n",
    "fulls = np.full((2,2), 7)  # 특정 값으로 채워진 배열\n",
    "eye = np.eye(2)  # 2 x 2 단위행렬\n",
    "random = np.random.randint(0, 10, (2,3))  # 무작위 정수\n",
    "\n",
    "print(zero)\n",
    "print(ones)\n",
    "print(fulls)\n",
    "print(eye)\n",
    "print(random)"
   ]
  },
  {
   "cell_type": "code",
   "execution_count": 8,
   "metadata": {},
   "outputs": [
    {
     "output_type": "execute_result",
     "data": {
      "text/plain": [
       "2.23606797749979"
      ]
     },
     "metadata": {},
     "execution_count": 8
    }
   ],
   "source": [
    "np.linalg.norm(np.array([1,2]))"
   ]
  },
  {
   "cell_type": "code",
   "execution_count": 10,
   "metadata": {},
   "outputs": [
    {
     "output_type": "stream",
     "name": "stdout",
     "text": [
      "8\n8\n"
     ]
    }
   ],
   "source": [
    "# 벡터의 내적\n",
    "arr1 = np.array([1,2])\n",
    "arr2 = np.array([2,3])\n",
    "\n",
    "# 내적을 계산하는 두 가지 방법\n",
    "arr_dot1 = np.dot(arr1, arr2)\n",
    "print(arr_dot1)\n",
    "arr_dot2 = arr1.dot(arr2)\n",
    "print(arr_dot2)"
   ]
  },
  {
   "cell_type": "code",
   "execution_count": 13,
   "metadata": {},
   "outputs": [
    {
     "output_type": "stream",
     "name": "stdout",
     "text": [
      "[[1 4]\n [2 5]\n [3 6]]\n"
     ]
    }
   ],
   "source": [
    "# Transpose\n",
    "arr1_T = a.T\n",
    "print(arr1_T)"
   ]
  },
  {
   "cell_type": "code",
   "execution_count": 16,
   "metadata": {},
   "outputs": [
    {
     "output_type": "stream",
     "name": "stdout",
     "text": [
      "[[ 2  4  6]\n [ 5  7  9]\n [ 8 10 12]\n [11 13 15]]\n"
     ]
    }
   ],
   "source": [
    "# broad casting\n",
    "arr3 = np.array([[1,2,3], [4,5,6], [7,8,9], [10,11,12]])\n",
    "arr3_like = np.empty_like(arr3)  # input array와 동일한 shape을 가지며 비어있는 행렬 생성\n",
    "\n",
    "arr3_plus = np.array([1,2,3])\n",
    "for i in range(4):\n",
    "    arr3_like[i, :] = arr3[i,:] + arr3_plus  # 모든 열에 이를 더해주기\n",
    "\n",
    "print(arr3_like)"
   ]
  },
  {
   "cell_type": "code",
   "execution_count": 18,
   "metadata": {},
   "outputs": [
    {
     "output_type": "stream",
     "name": "stdout",
     "text": [
      "[[1 2 3]\n [1 2 3]\n [1 2 3]\n [1 2 3]]\n"
     ]
    }
   ],
   "source": [
    "# 행렬을 임의의 순서로 쌓는 함수 tile\n",
    "arr3_tile = np.tile(arr3_plus, (4, 1))  # 4 x 1로 만들기\n",
    "print(arr3_tile)"
   ]
  },
  {
   "cell_type": "code",
   "execution_count": 20,
   "metadata": {},
   "outputs": [
    {
     "output_type": "stream",
     "name": "stdout",
     "text": [
      "[[ 2  4  6]\n [ 5  7  9]\n [ 8 10 12]\n [11 13 15]]\n"
     ]
    }
   ],
   "source": [
    "# shape이 달라도 브로드케스팅으로 인해 문제없이 수행되게 된다. arr3_plus의 복사본이 쌓인 형태로 간주된다\n",
    "arr3_end = arr3 + arr3_plus\n",
    "print(arr3_end)"
   ]
  },
  {
   "source": [
    "### numpy에서의 브로드 캐스팅시 규칙\n",
    "1. 두 배열이 동일한 rank를 가지고 있지 않다면, 낮은 rank의 1차원 배열이 높은 rank 배열의 shape로 간주합니다.  \n",
    "2. 특정 차원에서 두 배열이 동일한 크기를 갖거나, 두 배열 중 하나의 크기가 1이라면 그 두 배열은 특정 차원에서 compatible하다고 여겨집니다.  \n",
    "3. 두 행렬이 모든 차원에서 compatible하다면, 브로드캐스팅이 가능합니다.  \n",
    "4. 브로드캐스팅이 이뤄지면, 각 배열 shape의 요소별 최소공배수로 이루어진 shape가 두 배열의 shape로 간주합니다.  \n",
    "5. 차원에 상관없이 크기가 1인 배열과 1보다 큰 배열이 있을 때, 크기가 1인 배열은 자신의 차원 수만큼 복사되어 쌓인 것처럼 간주합니다."
   ],
   "cell_type": "markdown",
   "metadata": {}
  },
  {
   "cell_type": "code",
   "execution_count": 22,
   "metadata": {},
   "outputs": [
    {
     "output_type": "stream",
     "name": "stdout",
     "text": [
      "[[ 4  5]\n [ 8 10]\n [12 15]]\n[[2 4 6]\n [5 7 9]]\n[[ 5  6  7]\n [ 9 10 11]]\n[[ 5  6  7]\n [ 9 10 11]]\n[[ 2  4  6]\n [ 8 10 12]]\n"
     ]
    }
   ],
   "source": [
    "# 벡터의 외적을 계산\n",
    "v = np.array([1,2,3])  # v의 shape는 (3,)\n",
    "w = np.array([4,5])    # w의 shape는 (2,)\n",
    "# 외적을 계산하기 위해, 먼저 v를 shape가 (3,1)인 행벡터로 바꿔야 합니다;\n",
    "# 그다음 이것을 w에 맞춰 브로드캐스팅한뒤 결과물로 shape가 (3,2)인 행렬을 얻습니다,\n",
    "# 이 행렬은 v와 w 외적의 결과입니다:\n",
    "# [[ 4  5]\n",
    "#  [ 8 10]\n",
    "#  [12 15]]\n",
    "print(np.reshape(v, (3, 1)) * w)\n",
    "\n",
    "# 벡터를 행렬의 각 행에 더하기\n",
    "x = np.array([[1,2,3], [4,5,6]])\n",
    "# x는 shape가 (2, 3)이고 v는 shape가 (3,)이므로 이 둘을 브로드캐스팅하면 shape가 (2, 3)인\n",
    "# 아래와 같은 행렬이 나옵니다:\n",
    "# [[2 4 6]\n",
    "#  [5 7 9]]\n",
    "print(x + v)\n",
    "\n",
    "# 벡터를 행렬의 각 행에 더하기\n",
    "# x는 shape가 (2, 3)이고 w는 shape가 (2,)입니다.\n",
    "# x의 전치행렬은 shape가 (3,2)이며 이는 w와 브로드캐스팅이 가능하고 결과로 shape가 (3,2)인 행렬이 생깁니다;\n",
    "# 이 행렬을 전치하면 shape가 (2,3)인 행렬이 나오며\n",
    "# 이는 행렬 x의 각 열에 벡터 w을 더한 결과와 동일합니다.\n",
    "# 아래의 행렬입니다:\n",
    "# [[ 5  6  7]\n",
    "#  [ 9 10 11]]\n",
    "print((x.T + w).T)\n",
    "# 다른 방법은 w를 shape가 (2,1)인 열벡터로 변환하는 것입니다;\n",
    "# 그런 다음 이를 바로 x에 브로드캐스팅해 더하면\n",
    "# 동일한 결과가 나옵니다.\n",
    "print( x + np.reshape(w, (2, 1)))\n",
    "\n",
    "# 행렬의 스칼라배:\n",
    "# x 의 shape는 (2, 3)입니다. Numpy는 스칼라를 shape가 ()인 배열로 취급합니다;\n",
    "# 그렇기에 스칼라 값은 (2,3) shape로 브로드캐스트 될 수 있고,\n",
    "# 아래와 같은 결과를 만들어 냅니다:\n",
    "# [[ 2  4  6]\n",
    "#  [ 8 10 12]]\n",
    "print(x * 2)"
   ]
  },
  {
   "cell_type": "code",
   "execution_count": null,
   "metadata": {},
   "outputs": [],
   "source": []
  }
 ]
}