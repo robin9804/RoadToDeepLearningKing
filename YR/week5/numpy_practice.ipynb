{
 "metadata": {
  "language_info": {
   "codemirror_mode": {
    "name": "ipython",
    "version": 3
   },
   "file_extension": ".py",
   "mimetype": "text/x-python",
   "name": "python",
   "nbconvert_exporter": "python",
   "pygments_lexer": "ipython3",
   "version": "3.8.7-final"
  },
  "orig_nbformat": 2,
  "kernelspec": {
   "name": "python3",
   "display_name": "Python 3.8.7 64-bit",
   "metadata": {
    "interpreter": {
     "hash": "83d028ccccd3f29c9681cbfd001771ee0a06c129150b2bcc075c12d561c3d1d3"
    }
   }
  }
 },
 "nbformat": 4,
 "nbformat_minor": 2,
 "cells": [
  {
   "source": [
    "# numpy 모듈에 대한 연습"
   ],
   "cell_type": "markdown",
   "metadata": {}
  },
  {
   "cell_type": "code",
   "execution_count": 2,
   "metadata": {},
   "outputs": [],
   "source": [
    "import numpy as np"
   ]
  },
  {
   "cell_type": "code",
   "execution_count": 3,
   "metadata": {},
   "outputs": [
    {
     "output_type": "stream",
     "name": "stdout",
     "text": [
      "[[1 2 3]\n [4 5 6]]\n[[1. 2. 3.]\n [4. 5. 6.]]\n"
     ]
    }
   ],
   "source": [
    "# numpy array 의 사용\n",
    "a = np.array([[1,2,3], [4,5,6]])\n",
    "b = np.array([[1,2,3], [4,5,6]], np.float)\n",
    "print(a)\n",
    "print(b)"
   ]
  },
  {
   "cell_type": "code",
   "execution_count": 4,
   "metadata": {},
   "outputs": [
    {
     "output_type": "stream",
     "name": "stdout",
     "text": [
      "[[ 2.  4.  6.]\n [ 8. 10. 12.]]\n"
     ]
    }
   ],
   "source": [
    "# array 간의 합\n",
    "c = a + b\n",
    "print(c)"
   ]
  },
  {
   "cell_type": "code",
   "execution_count": 5,
   "metadata": {},
   "outputs": [
    {
     "output_type": "stream",
     "name": "stdout",
     "text": [
      "[[ 1.  4.  9.]\n [16. 25. 36.]]\n"
     ]
    }
   ],
   "source": [
    "# 요소곱\n",
    "d = a * b\n",
    "print(d)"
   ]
  },
  {
   "cell_type": "code",
   "execution_count": 6,
   "metadata": {},
   "outputs": [
    {
     "output_type": "stream",
     "name": "stdout",
     "text": [
      "<class 'numpy.ndarray'>\n(2, 3)\n[1 2 3] [4 5 6]\n2\n"
     ]
    }
   ],
   "source": [
    "print(type(a))\n",
    "print(a.shape)\n",
    "print(a[0], a[1])\n",
    "print(a[0,1])"
   ]
  },
  {
   "cell_type": "code",
   "execution_count": 7,
   "metadata": {},
   "outputs": [
    {
     "output_type": "stream",
     "name": "stdout",
     "text": [
      "[[0. 0. 0.]\n",
      " [0. 0. 0.]]\n",
      "[[1. 1.]\n",
      " [1. 1.]]\n",
      "[[7 7]\n",
      " [7 7]]\n",
      "[[1. 0.]\n",
      " [0. 1.]]\n",
      "[[8 0 5]\n",
      " [7 9 7]]\n"
     ]
    }
   ],
   "source": [
    "# 배열을 만들기 위한 다양한 함수 제공\n",
    "zero = np.zeros((2,3))\n",
    "ones = np.ones((2,2))\n",
    "fulls = np.full((2,2), 7)  # 특정 값으로 채워진 배열\n",
    "eye = np.eye(2)  # 2 x 2 단위행렬\n",
    "random = np.random.randint(0, 10, (2,3))  # 무작위 정수\n",
    "\n",
    "print(zero)\n",
    "print(ones)\n",
    "print(fulls)\n",
    "print(eye)\n",
    "print(random)"
   ]
  },
  {
   "cell_type": "code",
   "execution_count": 9,
   "metadata": {},
   "outputs": [
    {
     "output_type": "execute_result",
     "data": {
      "text/plain": [
       "2.23606797749979"
      ]
     },
     "metadata": {},
     "execution_count": 9
    }
   ],
   "source": [
    "np.linalg.norm(np.array([1,2]))"
   ]
  }
 ]
}